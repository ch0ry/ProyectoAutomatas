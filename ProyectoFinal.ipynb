{
 "cells": [
  {
   "cell_type": "markdown",
   "metadata": {
    "colab_type": "text",
    "id": "h5OE2BMuBKvh"
   },
   "source": [
    "# Traducción de Carácteres Alfanuméricos a Código Morse y viceversa\n",
    "\n",
    "\n",
    "**Asignatura: Autómatas y Lenguajes Formales**\n",
    "\n",
    "**Profesor: Gustavo Garzón**\n",
    "\n",
    "\n",
    "\n",
    "**Estudiantes:**\n",
    "\n",
    "- Carvajal Esparza Juan Sebastian, 2143162\n",
    "\n",
    "- Cerinza Zaraza Juan Pablo, 2190081\n",
    "\n",
    "- Gualdron Hurtado Yesid Romario, 2190052\n",
    "\n",
    "    \n",
    "\n",
    "\n",
    "**Escuela de Ingeniería de Sistemas e Informática**   \n",
    "\n",
    "_Septiembre de 2020_"
   ]
  },
  {
   "cell_type": "code",
   "execution_count": 1,
   "metadata": {
    "colab": {},
    "colab_type": "code",
    "collapsed": false,
    "id": "X7fQfWWoBfL-",
    "jupyter": {
     "outputs_hidden": false
    },
    "scrolled": true
   },
   "outputs": [],
   "source": [
    "\n",
    "from project_automatons import automaton_library\n",
    "import regex as rg\n"
   ]
  },
  {
   "cell_type": "markdown",
   "metadata": {
    "colab_type": "text",
    "id": "te8D5dB3BKvq"
   },
   "source": [
    "## Introducción"
   ]
  },
  {
   "cell_type": "markdown",
   "metadata": {
    "colab_type": "text",
    "id": "eDm0VE_KBKvx"
   },
   "source": [
    "Para la realización de este proyecto, se hizo uso de dos Máquinas de Turing, inplementadas con la libreria  [automatalib](https://pypi.python.org/pypi/automata-lib/1.0.0.post4) y también mediante la herramienta [JFLAP](http://www.jflap.org/). Cada máquina de Turing tiene  una función diferente, la primera traduce el código morse ingresado en sus correspondientes carácteres alfanumericos, la segunda, a partir del texto ingresado, encuentra su equivalente en código morse. Es necesario tener en cuenta la siguiente imagen donde se muestran las reglas del código morse:\n"
   ]
  },
  {
   "cell_type": "markdown",
   "metadata": {},
   "source": [
    "<img src=\"files/Morse.jpeg\" />"
   ]
  },
  {
   "cell_type": "markdown",
   "metadata": {},
   "source": [
    "## Definición Formal"
   ]
  },
  {
   "cell_type": "markdown",
   "metadata": {},
   "source": [
    "### Primera Maquina de Turing (Morse $\\rightarrow$ Carácteres Alfanuméricos)"
   ]
  },
  {
   "cell_type": "markdown",
   "metadata": {},
   "source": [
    "Como trabajo previo a la eleboración de esta máquina de Turing, se realizó un Autómata Finito Determinista, en JFLAP, el cual \"traducía\" de código morse a su carácter alfanumérico correspondiente, cabe recalcar que, por orden y como convención para este Árbol de Busqueda Binaria las ramas derechas de cada nodo leen los guiones y las izquierdas los puntos, pero este automata en forma de árbol solo aceptaba cadenas de máximo 5 caracteres entre puntos y rayas, como se muestra a continuación:\n",
    "<img src=\"files/arbol-afd.png\" />"
   ]
  },
  {
   "cell_type": "markdown",
   "metadata": {},
   "source": [
    "Luego, como solución para la traducción de varios caracteres se decidió implementar este árbol como una máquina de Turing, pero debido a la cantidad de caracteres alfanumericos y al proceso de traducción como tal, se mostrará un modelo base para la explicación de dicha máquina de Turing:\n",
    "<img src=\"files/modelobasico-mt.jpeg\" />"
   ]
  },
  {
   "cell_type": "markdown",
   "metadata": {},
   "source": [
    "MT1 = (Q, q0, F, Σ, Γ,B, δ)\n",
    "\n",
    "Q: { q000, qE , qT , Qt , q099 , Qe , q101 }\n",
    "\n",
    "q0 : q000\n",
    "F: { q101 }\n",
    "Σ: { . , - ,    , }\n",
    "Γ: { . , - ,  , # , a , b , c , d , e , f , g , h , i , j , k , l , m , n , o , p , q , r , s , t , u , v , w,  x , y , z , 0 , 1 , 2 , 3 , 4 , 5 , 6 , 7 , 8 , 9 }\n",
    "B : #\n",
    "δ : Q × Γ \n",
    "    δ( q00 , - ) = ( qT , # , R )        δ( q099 , - ) = ( q099 , - , L )\n",
    "    δ( q00 , . ) = ( qE , # , R )        δ( q099 , . ) = ( q099 , . , L )\n",
    "    δ( qT  ,     ) = ( Qt , # , R )      δ(q099 , # ) = ( q000 , # , R )\n",
    "    δ( qE ,      ) = ( Qe , # , R )      δ( q100 , t ) = ( q100 , t , L )\n",
    "    δ( Qe , t  ) = ( Qe , t , R )        δ(q100 , e ) = ( q100 , e , L )\n",
    "    δ( Qe , e ) = ( Qe , e , R )         δ( q100 ,   ) = ( q100 ,   , L )\n",
    "    δ( Qe , -  ) = ( Qe , - , R )        δ( q100 , # ) = ( q101 , # , S )\n",
    "    δ( Qe , . ) =  ( Qe , . , R )        δ( Qt , t ) = ( Qt , t , R )\n",
    "    δ( Qe ,   ) =  ( Qe ,   , R )        δ( Qt , e ) = ( Qt , e , R )\n",
    "    δ( Qe , # ) = ( q100 , e , L )       δ( Qt , - ) = ( Qt , - , R )\n",
    "    δ( q00 , . ) = ( q099 , . , L )      δ( Qt , . ) = ( Qt , . , R )\n",
    "    δ( q00 , - ) = ( q099 , - , L )      δ( Qt ,   ) = ( Qt ,   , R )\n",
    "    δ( q099 ,  )  = ( q099 ,   , L )     δ( Qt , # ) = ( q100 , t , L)"
   ]
  },
  {
   "cell_type": "markdown",
   "metadata": {},
   "source": [
    "Se hará una descripción de los diferentes tipos de estados presentes en la máquina de Turing:\n",
    "- q000: Es el estado inicial y tiene transiciones para leer un punto o un guion\n",
    "- qE o qT: Llegar a un estado de este tipo indica que puede ser ese caracter alfanumerico el equivalente al codigo morse leido\n",
    "- Qe o Qt: Luego de leer un espacio y llegar a este estado, se confirma que este caracter es el equivalente a la seccion del codigo morse ingresado\n",
    "- q100: En este estado llegan todas las transiciones luego de que se haya guardado en el final de cinta el caracter correspondiente a la traduccion, por lo cual este procede a ignorar hacia la izquieda todos los caracteres alfanumericos de la cinta\n",
    "- q101: Si despues de ignorar los caracteres alfanumericos no se encuentra ni un punto ni una raya a la izquierda de ellos, se entiende que la traduccion ha finalizado y llega a este estado de aceptación\n",
    "- q99: Con este estado se ignoran hacia la izquierda los posibles puntos y rayas que tenga la cinta en ese momento, al final, cuando encuentre un espacio vacío, se desplaza hacia el estado inicial para traducir otro caracter alfanumerico"
   ]
  },
  {
   "cell_type": "markdown",
   "metadata": {},
   "source": [
    "Una combinación de este modelo base y el árbol de busqueda binaria, es la representación de la máquina de turing trabajada, por la cantidad de estados y transiciones para ignorar caracteres en el momento de la traduccion, un diagrama de esta maquina no sería visualmente entendible. \n",
    "\n",
    "\n"
   ]
  },
  {
   "cell_type": "markdown",
   "metadata": {},
   "source": [
    "---"
   ]
  },
  {
   "cell_type": "markdown",
   "metadata": {},
   "source": [
    "<h1>Implementación</h1>\n",
    "\n",
    "<h3>Traductor morse-latino</h3>\n",
    "\n",
    "Para traducir de morse al abecedario latino, incluyendo números.\n",
    "Es necesario asegurarse que después de cada letra, haya un espacio (\" \"), así también que entre cada palabra, exista un \"/\".\n",
    "\n",
    "<h4>Ejemplo</h4>\n",
    "\n",
    "Escriba el código morse a traducir: <br>\n",
    "<div style=\"border-style: solid; width: 280px; height: 45px; text-align: center; border-width: 1px;\">\n",
    "<h3>.... . .-.. .-.. --- /.-- --- .-. .-.. -.. </h3>\n",
    "</div>\n",
    "<br>\n",
    "Output: <br>\n",
    "hello world\n",
    "\n",
    "El siguiente bloque de código realiza:\n",
    "- Descompone la frase en palabras y las traduce una por una.\n",
    "- Traduce una por una las palabras, mostrando un mensaje del error si surge uno.\n",
    "- Cada palabra traducida, es adicionada a una lista de strings, que al final se junta en un string y lo imprime.\n",
    "- Si se encuentra un error, muestra la palabra en donde residió el error y en su lugar pone \"???\"\n"
   ]
  },
  {
   "cell_type": "code",
   "execution_count": 2,
   "metadata": {},
   "outputs": [
    {
     "name": "stdin",
     "output_type": "stream",
     "text": [
      "Escriba el código morse a traducir:  .... . .-.. .-.. --- /.-- --- .-. .-.. -..\n"
     ]
    },
    {
     "name": "stdout",
     "output_type": "stream",
     "text": [
      "La traduccion es: hello world\n"
     ]
    }
   ],
   "source": [
    "# Word separation using /\n",
    "\n",
    "decoded_morse = list()\n",
    "\n",
    "automaton = automaton_library.morse_to_latin\n",
    "\n",
    "morse_code = input(\"Escriba el código morse a traducir: \")\n",
    "\n",
    "morse_code = rg.split('/', morse_code)\n",
    "\n",
    "if morse_code[-1][-1] != ' ':\n",
    "    fix = morse_code[-1] + ' '\n",
    "    morse_code[-1] = fix\n",
    "\n",
    "for morse_word in morse_code:\n",
    "    try:\n",
    "        word = automaton.input_tape(morse_word)\n",
    "    except:\n",
    "        print('La palabra \"' + morse_word + '\" está errónea. Omitiendo palabra....')\n",
    "        word = '???'\n",
    "        \n",
    "    decoded_morse.append(word)    \n",
    "\n",
    "decoded_morse = ' '.join(decoded_morse)\n",
    "\n",
    "print(\"La traduccion es: \" + decoded_morse)\n",
    "\n",
    "\n",
    "#tape = automaton_library.morse_to_latin.input_tape('. -- ----- .---- ..--- ...-- ....- ..... -.... --... ---.. ----. ')\n",
    "#print(tape)\n"
   ]
  },
  {
   "cell_type": "code",
   "execution_count": 3,
   "metadata": {
    "collapsed": false,
    "jupyter": {
     "outputs_hidden": false
    },
    "pycharm": {
     "name": "#%%\n"
    }
   },
   "outputs": [
    {
     "name": "stdin",
     "output_type": "stream",
     "text": [
      "Escriba el texto a traducir:  hello world\n"
     ]
    },
    {
     "name": "stdout",
     "output_type": "stream",
     "text": [
      ".... . .-.. .-.. --- /.-- --- .-. .-.. -..\n"
     ]
    }
   ],
   "source": [
    "coded_morse = list()\n",
    "morse_word = list()\n",
    "\n",
    "automaton = automaton_library.latin_to_morse\n",
    "\n",
    "morse_code = input(\"Escriba el texto a traducir: \")\n",
    "\n",
    "morse_code = rg.split(' ', morse_code)\n",
    "\n",
    "\n",
    "for word in morse_code:\n",
    "    try:\n",
    "        for letter in word:\n",
    "            morse_word.append(automaton.input_tape(letter))\n",
    "        coded_morse.append(' '.join(morse_word))\n",
    "        morse_word = list()\n",
    "    except:\n",
    "        print(\"Ocurrió un error, por favor asegúrese que está ingresando caracteres válidos\")\n",
    "        \n",
    "coded_morse = ' /'.join(coded_morse)\n",
    "\n",
    "print(coded_morse)\n",
    "            "
   ]
  },
  {
   "cell_type": "code",
   "execution_count": 4,
   "metadata": {},
   "outputs": [],
   "source": [
    "\n",
    "from pydub import AudioSegment\n",
    "from pydub.playback import play\n",
    "\n",
    "dash = AudioSegment.from_ogg(\"files/dash.ogg\")\n",
    "dot = AudioSegment.from_ogg(\"files/dot.ogg\")\n",
    "\n",
    "dot_silence = AudioSegment.silent(duration=414)\n",
    "sound = dot_silence\n",
    "\n",
    "for char in coded_morse:\n",
    "    if char == '-':\n",
    "        sound += dash\n",
    "    if char == '.':\n",
    "        sound += dot\n",
    "    if char == ' ':\n",
    "        sound += dot_silence * 3\n",
    "    if char == '/':\n",
    "        sound +=  dot_silence * 5\n",
    "    \n",
    "    \n",
    "play(sound)\n",
    "    "
   ]
  },
  {
   "cell_type": "markdown",
   "metadata": {},
   "source": [
    "sudo apt-get install ffmpeg libavcodec-extra\n",
    "pip install pydub ffmpeg ffprobe regex"
   ]
  },
  {
   "cell_type": "markdown",
   "metadata": {
    "colab_type": "text",
    "id": "Ou80ZRDqBKxN"
   },
   "source": [
    "---"
   ]
  },
  {
   "cell_type": "markdown",
   "metadata": {
    "colab_type": "text",
    "id": "OAt8glztBKzF"
   },
   "source": [
    "[1] Implementación de una Máquina de Turing universal: https://rosettacode.org/wiki/Universal_Turing_machine\n",
    "\n",
    "[2] Libreria en Python para máquinas de Turing: https://pypi.python.org/pypi/turing_machine"
   ]
  }
 ],
 "metadata": {
  "colab": {
   "collapsed_sections": [],
   "name": "Clase_10_MT.ipynb",
   "provenance": []
  },
  "kernelspec": {
   "display_name": "Python 3",
   "language": "python",
   "name": "python3"
  },
  "language_info": {
   "codemirror_mode": {
    "name": "ipython",
    "version": 3
   },
   "file_extension": ".py",
   "mimetype": "text/x-python",
   "name": "python",
   "nbconvert_exporter": "python",
   "pygments_lexer": "ipython3",
   "version": "3.8.3"
  }
 },
 "nbformat": 4,
 "nbformat_minor": 4
}

{
 "cells": [
  {
   "cell_type": "markdown",
   "metadata": {
    "colab_type": "text",
    "id": "h5OE2BMuBKvh"
   },
   "source": [
    "# Traducción de Carácteres Alfanuméricos a Código Morse y viceversa\n",
    "\n",
    "\n",
    "**Asignatura: Autómatas y Lenguajes Formales**\n",
    "\n",
    "**Profesor: Gustavo Garzón**\n",
    "\n",
    "\n",
    "\n",
    "**Estudiantes:**\n",
    "\n",
    "- Carvajal Esparza Juan Sebastian, 2143162\n",
    "\n",
    "- Cerinza Zaraza Juan Pablo, 2190081\n",
    "\n",
    "- Gualdron Hurtado Yesid Romario, 2190052\n",
    "\n",
    "    \n",
    "\n",
    "\n",
    "**Escuela de Ingeniería de Sistemas e Informática**   \n",
    "\n",
    "_Septiembre de 2020_"
   ]
  },
  {
   "cell_type": "code",
   "execution_count": 1,
   "metadata": {
    "colab": {},
    "colab_type": "code",
    "collapsed": false,
    "id": "X7fQfWWoBfL-",
    "jupyter": {
     "outputs_hidden": false
    },
    "scrolled": true
   },
   "outputs": [
    {
     "name": "stdout",
     "output_type": "stream",
     "text": [
      "Requirement already satisfied: pydub in /home/ch0ry/anaconda3/lib/python3.8/site-packages (0.24.1)\n",
      "Requirement already satisfied: ffmpeg in /home/ch0ry/anaconda3/lib/python3.8/site-packages (1.4)\n",
      "Requirement already satisfied: ffprobe in /home/ch0ry/anaconda3/lib/python3.8/site-packages (0.5)\n",
      "Requirement already satisfied: regex in /home/ch0ry/anaconda3/lib/python3.8/site-packages (2020.6.8)\n"
     ]
    }
   ],
   "source": [
    "!pip install pydub ffmpeg ffprobe regex\n",
    "from project_automatons import automaton_library\n",
    "import regex as rg"
   ]
  },
  {
   "cell_type": "markdown",
   "metadata": {
    "colab_type": "text",
    "id": "te8D5dB3BKvq"
   },
   "source": [
    "## Introducción"
   ]
  },
  {
   "cell_type": "markdown",
   "metadata": {
    "colab_type": "text",
    "id": "eDm0VE_KBKvx"
   },
   "source": [
    "Para la realización de este proyecto, se hizo uso de dos Máquinas de Turing, inplementadas con la libreria  [automatalib](https://pypi.python.org/pypi/automata-lib/1.0.0.post4) y también mediante la herramienta [JFLAP](http://www.jflap.org/). Cada máquina de Turing tiene  una función diferente, la primera traduce el código morse ingresado en sus correspondientes carácteres alfanumericos, la segunda, a partir del texto ingresado, encuentra su equivalente en código morse. Es necesario tener en cuenta la siguiente imagen donde se muestran las reglas del código morse:\n"
   ]
  },
  {
   "cell_type": "markdown",
   "metadata": {},
   "source": [
    "<img src=\"files/Morse.jpeg\" />"
   ]
  },
  {
   "cell_type": "markdown",
   "metadata": {},
   "source": [
    "## Definición Formal"
   ]
  },
  {
   "cell_type": "markdown",
   "metadata": {},
   "source": [
    "### Primera Maquina de Turing (Morse $\\rightarrow$ Caracteres Alfanuméricos)"
   ]
  },
  {
   "cell_type": "markdown",
   "metadata": {},
   "source": [
    "Como trabajo previo a la eleboración de esta máquina de Turing, se realizó un Autómata Finito Determinista, en JFLAP, el cual \"traducía\" de código morse a su carácter alfanumérico correspondiente, cabe recalcar que, por orden y como convención para este Árbol de Busqueda Binaria las ramas derechas de cada nodo leen los guiones y las izquierdas los puntos, pero este automata en forma de árbol solo aceptaba cadenas de máximo 5 caracteres entre puntos y rayas, como se muestra a continuación:"
   ]
  },
  {
   "cell_type": "markdown",
   "metadata": {},
   "source": [
    "<img src=\"files/arbol-afd.png\" />"
   ]
  },
  {
   "cell_type": "markdown",
   "metadata": {},
   "source": [
    "Luego, como solución para la traducción de varios caracteres se decidió implementar este árbol como una máquina de Turing, pero debido a la cantidad de caracteres alfanumericos y al proceso de traducción como tal, se mostrará un modelo base para la explicación de dicha máquina de Turing:"
   ]
  },
  {
   "cell_type": "markdown",
   "metadata": {},
   "source": [
    "<img src=\"files/modelobasico-mt.jpeg\" />"
   ]
  },
  {
   "cell_type": "markdown",
   "metadata": {},
   "source": [
    "Se hará una descripción de los diferentes tipos de estados presentes en la máquina de Turing:\n",
    "- q000: Es el estado inicial y tiene transiciones para leer un punto o un guion\n",
    "- qE o qT: Llegar a un estado de este tipo indica que puede ser ese caracter alfanumerico el equivalente al codigo morse leido\n",
    "- Qe o Qt: Luego de leer un espacio y llegar a este estado, se confirma que este caracter es el equivalente a la seccion del codigo morse ingresado\n",
    "- q100: En este estado llegan todas las transiciones luego de que se haya guardado en el final de cinta el caracter correspondiente a la traduccion, por lo cual este procede a ignorar hacia la izquieda todos los caracteres alfanumericos de la cinta\n",
    "- q101: Si despues de ignorar los caracteres alfanumericos no se encuentra ni un punto ni una raya a la izquierda de ellos, se entiende que la traduccion ha finalizado y llega a este estado de aceptación\n",
    "- q99: Con este estado se ignoran hacia la izquierda los posibles puntos y rayas que tenga la cinta en ese momento, al final, cuando encuentre un espacio vacío, se desplaza hacia el estado inicial para traducir otro caracter alfanumerico"
   ]
  },
  {
   "cell_type": "markdown",
   "metadata": {},
   "source": [
    "Una combinación de este modelo base y el árbol de busqueda binaria, es la representación de la máquina de turing trabajada, por la cantidad de estados y transiciones para ignorar caracteres en el momento de la traduccion, un diagrama de esta maquina no sería visualmente entendible. \n",
    "\n",
    "\n"
   ]
  },
  {
   "cell_type": "markdown",
   "metadata": {},
   "source": [
    "---"
   ]
  },
  {
   "cell_type": "markdown",
   "metadata": {},
   "source": [
    "<h1>Implementación</h1>\n",
    "\n",
    "<h3>Traductor de Morse a Latino</h3>\n",
    "\n",
    "Para traducir de morse al abecedario latino, incluyendo números.\n",
    "Es necesario asegurarse que después de cada letra, haya un espacio (\" \"), así también que entre cada palabra, exista un \" / \".\n",
    "\n",
    "<h4>Ejemplo</h4>\n",
    "\n",
    "Escriba el código morse a traducir: <br>\n",
    "<div style=\"border-style: solid; width: 280px; height: 45px; text-align: center; border-width: 1px;\">\n",
    "<h3>.... . .-.. .-.. --- / .-- --- .-. .-.. -.. </h3>\n",
    "</div>\n",
    "<br>\n",
    "Output: <br>\n",
    "hello world\n",
    "\n",
    "El siguiente bloque de código realiza:\n",
    "- Descompone la frase en palabras y las traduce una por una.\n",
    "- Traduce una por una las palabras, mostrando un mensaje del error si surge uno.\n",
    "- Cada palabra traducida, es adicionada a una lista de strings, que al final se junta en un string y lo imprime.\n",
    "- Si se encuentra un error, muestra la palabra en donde residió el error y en su lugar pone \"???\"\n"
   ]
  },
  {
   "cell_type": "code",
   "execution_count": 3,
   "metadata": {},
   "outputs": [
    {
     "name": "stdin",
     "output_type": "stream",
     "text": [
      "Escriba el código morse a traducir:  .... . .-.. .-.. --- / .-- --- .-. .-.. -..\n"
     ]
    },
    {
     "name": "stdout",
     "output_type": "stream",
     "text": [
      "La traduccion es: hello world\n"
     ]
    }
   ],
   "source": [
    "# Word separation using /\n",
    "\n",
    "decoded_morse = list()\n",
    "\n",
    "automaton = automaton_library.morse_to_latin\n",
    "\n",
    "morse_code = input(\"Escriba el código morse a traducir: \")\n",
    "\n",
    "morse_code = rg.split('/ ', morse_code)\n",
    "\n",
    "if morse_code[-1][-1] != ' ':\n",
    "    fix = morse_code[-1] + ' '\n",
    "    morse_code[-1] = fix\n",
    "\n",
    "for morse_word in morse_code:\n",
    "    try:\n",
    "        word = automaton.input_tape(morse_word)\n",
    "    except:\n",
    "        print('La palabra \"' + morse_word + '\" está errónea. Omitiendo palabra....')\n",
    "        word = '???'\n",
    "        \n",
    "    decoded_morse.append(word)    \n",
    "\n",
    "decoded_morse = ' '.join(decoded_morse)\n",
    "\n",
    "print(\"La traduccion es: \" + decoded_morse)\n"
   ]
  },
  {
   "cell_type": "markdown",
   "metadata": {},
   "source": [
    "## Definición formal"
   ]
  },
  {
   "cell_type": "markdown",
   "metadata": {},
   "source": [
    "### Segunda Maquina de Turing (Caracteres Alfanuméricos $\\rightarrow$ Morse)"
   ]
  },
  {
   "cell_type": "markdown",
   "metadata": {},
   "source": [
    "Dado que la simplicidad de traducir caracteres alfanuméricos del alfabeto latino es un proceso sencillo y carente de mucha ambigüedad como lo es el proceso contrario, se deicidió tomar un acercamiento más sencillo al realizar la traducción. Por medio de JFLAP se diseñó una máquina de Turing que traduce de a ún caracter alfanumérico.\n",
    "\n",
    "Teniendo en cuenta la cantidad de estados que esta máquina posee (48), la falta de legibilidad de la misma no permite su comprensión sencilla, es por eso que se tomó el mismo principio con el que se desarrolló la máquina de Turing previamente mencionada"
   ]
  },
  {
   "cell_type": "markdown",
   "metadata": {},
   "source": [
    "<img src = \"files/modelobasico-mt2.jpeg\"/>"
   ]
  },
  {
   "cell_type": "markdown",
   "metadata": {},
   "source": [
    "q0: El estado inicial que lee todos los caracteres alfanuméricos y lleva al estado que producirá su respectiva traducción\n",
    "q1 y q4: Son los estados iniciales del caracter que representan, tal que los estados y las transiciones que siguen después de estas llevan a que la cinta concluya con la palabra en morse que representa el caracter\n",
    "q2 y q3: Son estados intermedios que se encargan de secuenciar la escritura de caracteres en la cinta hasta concluir\n",
    "\n",
    "El funcionamiento de la máquina, en resumidas cuentas, es el siguiente:\n",
    "Se recibe un caracter, luego se comienza la secuencia de traducción, donde las transiciones escriben en la cinta los caracteres en morse que constituyen el caracter introducido y culminar en uno de dos estados de aceptación, uno donde el último caracter es un '-' y el otro donde es un '.'.\n",
    "\n",
    "Cabe destacar que si la secuencia en morse de un caracter alfanumérico es una subcadena de otro (tal como se observa en la imágen) estos se conectan para optimizar estados. (La 'u' en morse es una 'a' antecedida de un '.')"
   ]
  },
  {
   "cell_type": "code",
   "execution_count": 2,
   "metadata": {
    "collapsed": false,
    "jupyter": {
     "outputs_hidden": false
    },
    "pycharm": {
     "name": "#%%\n"
    }
   },
   "outputs": [
    {
     "name": "stdin",
     "output_type": "stream",
     "text": [
      "Escriba el texto a traducir:  hello world\n"
     ]
    },
    {
     "name": "stdout",
     "output_type": "stream",
     "text": [
      ".... . .-.. .-.. --- / .-- --- .-. .-.. -..\n"
     ]
    }
   ],
   "source": [
    "coded_morse = list()\n",
    "morse_word = list()\n",
    "\n",
    "automaton = automaton_library.latin_to_morse\n",
    "\n",
    "morse_code = input(\"Escriba el texto a traducir: \")\n",
    "\n",
    "morse_code = rg.split(' ', morse_code)\n",
    "\n",
    "\n",
    "for word in morse_code:\n",
    "    try:\n",
    "        for letter in word:\n",
    "            morse_word.append(automaton.input_tape(letter))\n",
    "        coded_morse.append(' '.join(morse_word))\n",
    "        morse_word = list()\n",
    "    except:\n",
    "        print(\"Ocurrió un error, por favor asegúrese que está ingresando caracteres válidos\")\n",
    "        \n",
    "coded_morse = ' / '.join(coded_morse)\n",
    "\n",
    "print(coded_morse)\n",
    "            "
   ]
  },
  {
   "cell_type": "markdown",
   "metadata": {},
   "source": [
    "Para poder reproducir el sonido es necesario instalar solo la primera vez:    \n",
    "sudo apt-get install ffmpeg"
   ]
  },
  {
   "cell_type": "code",
   "execution_count": 4,
   "metadata": {},
   "outputs": [],
   "source": [
    "\n",
    "from pydub import AudioSegment\n",
    "from pydub.playback import play\n",
    "\n",
    "dash = AudioSegment.from_ogg(\"files/dash.ogg\")-0.0017\n",
    "dot = AudioSegment.from_ogg(\"files/dot.ogg\")-0.0114\n",
    "\n",
    "\n",
    "dot_silence = AudioSegment.silent(duration=300)\n",
    "sound = dot_silence\n",
    "\n",
    "for char in coded_morse:\n",
    "    if char == '-':\n",
    "        sound += dash\n",
    "    if char == '.':\n",
    "        sound += dot\n",
    "    if char == ' ':\n",
    "        sound += dot_silence * 3\n",
    "    if char == '/':\n",
    "        sound +=  dot_silence * 2\n",
    "\n",
    "#sound_name = ' '.join(morse_code) + '.mp3'\n",
    "#sound.export(sound_name, format=\"mp3\") \n",
    "\n",
    "play(sound)\n",
    "    "
   ]
  },
  {
   "cell_type": "markdown",
   "metadata": {
    "colab_type": "text",
    "id": "Ou80ZRDqBKxN"
   },
   "source": [
    "---"
   ]
  },
  {
   "cell_type": "markdown",
   "metadata": {
    "colab_type": "text",
    "id": "OAt8glztBKzF"
   },
   "source": [
    "[1] Implementación de una Máquina de Turing universal: https://rosettacode.org/wiki/Universal_Turing_machine\n",
    "\n",
    "[2] Libreria en Python para máquinas de Turing: https://pypi.python.org/pypi/turing_machine"
   ]
  }
 ],
 "metadata": {
  "colab": {
   "collapsed_sections": [],
   "name": "Clase_10_MT.ipynb",
   "provenance": []
  },
  "kernelspec": {
   "display_name": "Python 3",
   "language": "python",
   "name": "python3"
  },
  "language_info": {
   "codemirror_mode": {
    "name": "ipython",
    "version": 3
   },
   "file_extension": ".py",
   "mimetype": "text/x-python",
   "name": "python",
   "nbconvert_exporter": "python",
   "pygments_lexer": "ipython3",
   "version": "3.8.3"
  }
 },
 "nbformat": 4,
 "nbformat_minor": 4
}
